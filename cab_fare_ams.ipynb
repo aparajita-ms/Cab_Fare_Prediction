{
 "cells": [
  {
   "cell_type": "code",
   "execution_count": 1,
   "metadata": {},
   "outputs": [],
   "source": [
    "#Import Librarires\n",
    "import os\n",
    "import pandas as pd\n",
    "import matplotlib.pyplot as plt\n",
    "import numpy as np\n",
    "import datetime as dt\n",
    "import seaborn as sns \n",
    "from sklearn.metrics import mean_squared_error\n",
    "from sklearn.tree import DecisionTreeRegressor\n",
    "from sklearn.ensemble import RandomForestRegressor\n",
    "from xgboost import XGBRegressor\n",
    "from sklearn.linear_model import LinearRegression\n",
    "import math \n",
    "%matplotlib inline"
   ]
  },
  {
   "cell_type": "code",
   "execution_count": 2,
   "metadata": {},
   "outputs": [],
   "source": [
    "#Set working Directory\n",
    "os.chdir(\"S:\\Aparajita\\edwisor\\proj2_cab\")"
   ]
  },
  {
   "cell_type": "code",
   "execution_count": 3,
   "metadata": {},
   "outputs": [],
   "source": [
    "#Load csv data\n",
    "cab_data=pd.read_csv(\"train_cab.csv\")"
   ]
  },
  {
   "cell_type": "markdown",
   "metadata": {},
   "source": [
    "# Expolatory Data Analysis"
   ]
  },
  {
   "cell_type": "code",
   "execution_count": 4,
   "metadata": {},
   "outputs": [
    {
     "data": {
      "text/plain": [
       "(16067, 7)"
      ]
     },
     "execution_count": 4,
     "metadata": {},
     "output_type": "execute_result"
    }
   ],
   "source": [
    "cab_data.shape"
   ]
  },
  {
   "cell_type": "code",
   "execution_count": 5,
   "metadata": {
    "scrolled": true
   },
   "outputs": [
    {
     "data": {
      "text/html": [
       "<div>\n",
       "<style scoped>\n",
       "    .dataframe tbody tr th:only-of-type {\n",
       "        vertical-align: middle;\n",
       "    }\n",
       "\n",
       "    .dataframe tbody tr th {\n",
       "        vertical-align: top;\n",
       "    }\n",
       "\n",
       "    .dataframe thead th {\n",
       "        text-align: right;\n",
       "    }\n",
       "</style>\n",
       "<table border=\"1\" class=\"dataframe\">\n",
       "  <thead>\n",
       "    <tr style=\"text-align: right;\">\n",
       "      <th></th>\n",
       "      <th>fare_amount</th>\n",
       "      <th>pickup_datetime</th>\n",
       "      <th>pickup_longitude</th>\n",
       "      <th>pickup_latitude</th>\n",
       "      <th>dropoff_longitude</th>\n",
       "      <th>dropoff_latitude</th>\n",
       "      <th>passenger_count</th>\n",
       "    </tr>\n",
       "  </thead>\n",
       "  <tbody>\n",
       "    <tr>\n",
       "      <th>0</th>\n",
       "      <td>4.5</td>\n",
       "      <td>2009-06-15 17:26:21 UTC</td>\n",
       "      <td>-73.844311</td>\n",
       "      <td>40.721319</td>\n",
       "      <td>-73.841610</td>\n",
       "      <td>40.712278</td>\n",
       "      <td>1.0</td>\n",
       "    </tr>\n",
       "    <tr>\n",
       "      <th>1</th>\n",
       "      <td>16.9</td>\n",
       "      <td>2010-01-05 16:52:16 UTC</td>\n",
       "      <td>-74.016048</td>\n",
       "      <td>40.711303</td>\n",
       "      <td>-73.979268</td>\n",
       "      <td>40.782004</td>\n",
       "      <td>1.0</td>\n",
       "    </tr>\n",
       "    <tr>\n",
       "      <th>2</th>\n",
       "      <td>5.7</td>\n",
       "      <td>2011-08-18 00:35:00 UTC</td>\n",
       "      <td>-73.982738</td>\n",
       "      <td>40.761270</td>\n",
       "      <td>-73.991242</td>\n",
       "      <td>40.750562</td>\n",
       "      <td>2.0</td>\n",
       "    </tr>\n",
       "    <tr>\n",
       "      <th>3</th>\n",
       "      <td>7.7</td>\n",
       "      <td>2012-04-21 04:30:42 UTC</td>\n",
       "      <td>-73.987130</td>\n",
       "      <td>40.733143</td>\n",
       "      <td>-73.991567</td>\n",
       "      <td>40.758092</td>\n",
       "      <td>1.0</td>\n",
       "    </tr>\n",
       "    <tr>\n",
       "      <th>4</th>\n",
       "      <td>5.3</td>\n",
       "      <td>2010-03-09 07:51:00 UTC</td>\n",
       "      <td>-73.968095</td>\n",
       "      <td>40.768008</td>\n",
       "      <td>-73.956655</td>\n",
       "      <td>40.783762</td>\n",
       "      <td>1.0</td>\n",
       "    </tr>\n",
       "  </tbody>\n",
       "</table>\n",
       "</div>"
      ],
      "text/plain": [
       "  fare_amount          pickup_datetime  pickup_longitude  pickup_latitude  \\\n",
       "0         4.5  2009-06-15 17:26:21 UTC        -73.844311        40.721319   \n",
       "1        16.9  2010-01-05 16:52:16 UTC        -74.016048        40.711303   \n",
       "2         5.7  2011-08-18 00:35:00 UTC        -73.982738        40.761270   \n",
       "3         7.7  2012-04-21 04:30:42 UTC        -73.987130        40.733143   \n",
       "4         5.3  2010-03-09 07:51:00 UTC        -73.968095        40.768008   \n",
       "\n",
       "   dropoff_longitude  dropoff_latitude  passenger_count  \n",
       "0         -73.841610         40.712278              1.0  \n",
       "1         -73.979268         40.782004              1.0  \n",
       "2         -73.991242         40.750562              2.0  \n",
       "3         -73.991567         40.758092              1.0  \n",
       "4         -73.956655         40.783762              1.0  "
      ]
     },
     "execution_count": 5,
     "metadata": {},
     "output_type": "execute_result"
    }
   ],
   "source": [
    "cab_data.head(5)"
   ]
  },
  {
   "cell_type": "code",
   "execution_count": 6,
   "metadata": {
    "scrolled": false
   },
   "outputs": [
    {
     "data": {
      "text/plain": [
       "fare_amount           object\n",
       "pickup_datetime       object\n",
       "pickup_longitude     float64\n",
       "pickup_latitude      float64\n",
       "dropoff_longitude    float64\n",
       "dropoff_latitude     float64\n",
       "passenger_count      float64\n",
       "dtype: object"
      ]
     },
     "execution_count": 6,
     "metadata": {},
     "output_type": "execute_result"
    }
   ],
   "source": [
    "#Checking the datatypes\n",
    "cab_data.dtypes"
   ]
  },
  {
   "cell_type": "code",
   "execution_count": 7,
   "metadata": {},
   "outputs": [],
   "source": [
    "#Changing the datatypes\n",
    "cab_data['fare_amount'] = pd.to_numeric(cab_data['fare_amount'],errors='coerce')\n",
    "cab_data.pickup_datetime = pd.to_datetime(cab_data.pickup_datetime, errors='coerce')\n",
    "cab_data['pickup_month']=cab_data['pickup_datetime'].dt.month\n",
    "cab_data['pickup_day']=cab_data['pickup_datetime'].dt.weekday\n",
    "cab_data['pickup_hour']=cab_data['pickup_datetime'].dt.hour\n",
    "cab_data = cab_data.drop(['pickup_datetime'], axis=1)\n",
    "cab_data['passenger_count']=cab_data['passenger_count'].astype('category')\n",
    "cab_data['pickup_month']=cab_data['pickup_month'].astype('category')\n",
    "cab_data['pickup_hour']=cab_data['pickup_hour'].astype('category')\n",
    "cab_data['pickup_day']=cab_data['pickup_day'].astype('category')"
   ]
  },
  {
   "cell_type": "code",
   "execution_count": 8,
   "metadata": {
    "scrolled": true
   },
   "outputs": [
    {
     "data": {
      "text/plain": [
       "fare_amount           float64\n",
       "pickup_longitude      float64\n",
       "pickup_latitude       float64\n",
       "dropoff_longitude     float64\n",
       "dropoff_latitude      float64\n",
       "passenger_count      category\n",
       "pickup_month         category\n",
       "pickup_day           category\n",
       "pickup_hour          category\n",
       "dtype: object"
      ]
     },
     "execution_count": 8,
     "metadata": {},
     "output_type": "execute_result"
    }
   ],
   "source": [
    "#Checking the datatypes\n",
    "cab_data.dtypes"
   ]
  },
  {
   "cell_type": "code",
   "execution_count": 9,
   "metadata": {},
   "outputs": [
    {
     "data": {
      "text/html": [
       "<div>\n",
       "<style scoped>\n",
       "    .dataframe tbody tr th:only-of-type {\n",
       "        vertical-align: middle;\n",
       "    }\n",
       "\n",
       "    .dataframe tbody tr th {\n",
       "        vertical-align: top;\n",
       "    }\n",
       "\n",
       "    .dataframe thead th {\n",
       "        text-align: right;\n",
       "    }\n",
       "</style>\n",
       "<table border=\"1\" class=\"dataframe\">\n",
       "  <thead>\n",
       "    <tr style=\"text-align: right;\">\n",
       "      <th></th>\n",
       "      <th>fare_amount</th>\n",
       "      <th>pickup_longitude</th>\n",
       "      <th>pickup_latitude</th>\n",
       "      <th>dropoff_longitude</th>\n",
       "      <th>dropoff_latitude</th>\n",
       "    </tr>\n",
       "  </thead>\n",
       "  <tbody>\n",
       "    <tr>\n",
       "      <th>count</th>\n",
       "      <td>16042.000000</td>\n",
       "      <td>16067.000000</td>\n",
       "      <td>16067.000000</td>\n",
       "      <td>16067.000000</td>\n",
       "      <td>16067.000000</td>\n",
       "    </tr>\n",
       "    <tr>\n",
       "      <th>mean</th>\n",
       "      <td>15.015004</td>\n",
       "      <td>-72.462787</td>\n",
       "      <td>39.914725</td>\n",
       "      <td>-72.462328</td>\n",
       "      <td>39.897906</td>\n",
       "    </tr>\n",
       "    <tr>\n",
       "      <th>std</th>\n",
       "      <td>430.460945</td>\n",
       "      <td>10.578384</td>\n",
       "      <td>6.826587</td>\n",
       "      <td>10.575062</td>\n",
       "      <td>6.187087</td>\n",
       "    </tr>\n",
       "    <tr>\n",
       "      <th>min</th>\n",
       "      <td>-3.000000</td>\n",
       "      <td>-74.438233</td>\n",
       "      <td>-74.006893</td>\n",
       "      <td>-74.429332</td>\n",
       "      <td>-74.006377</td>\n",
       "    </tr>\n",
       "    <tr>\n",
       "      <th>25%</th>\n",
       "      <td>6.000000</td>\n",
       "      <td>-73.992156</td>\n",
       "      <td>40.734927</td>\n",
       "      <td>-73.991182</td>\n",
       "      <td>40.734651</td>\n",
       "    </tr>\n",
       "    <tr>\n",
       "      <th>50%</th>\n",
       "      <td>8.500000</td>\n",
       "      <td>-73.981698</td>\n",
       "      <td>40.752603</td>\n",
       "      <td>-73.980172</td>\n",
       "      <td>40.753567</td>\n",
       "    </tr>\n",
       "    <tr>\n",
       "      <th>75%</th>\n",
       "      <td>12.500000</td>\n",
       "      <td>-73.966838</td>\n",
       "      <td>40.767381</td>\n",
       "      <td>-73.963643</td>\n",
       "      <td>40.768013</td>\n",
       "    </tr>\n",
       "    <tr>\n",
       "      <th>max</th>\n",
       "      <td>54343.000000</td>\n",
       "      <td>40.766125</td>\n",
       "      <td>401.083332</td>\n",
       "      <td>40.802437</td>\n",
       "      <td>41.366138</td>\n",
       "    </tr>\n",
       "  </tbody>\n",
       "</table>\n",
       "</div>"
      ],
      "text/plain": [
       "        fare_amount  pickup_longitude  pickup_latitude  dropoff_longitude  \\\n",
       "count  16042.000000      16067.000000     16067.000000       16067.000000   \n",
       "mean      15.015004        -72.462787        39.914725         -72.462328   \n",
       "std      430.460945         10.578384         6.826587          10.575062   \n",
       "min       -3.000000        -74.438233       -74.006893         -74.429332   \n",
       "25%        6.000000        -73.992156        40.734927         -73.991182   \n",
       "50%        8.500000        -73.981698        40.752603         -73.980172   \n",
       "75%       12.500000        -73.966838        40.767381         -73.963643   \n",
       "max    54343.000000         40.766125       401.083332          40.802437   \n",
       "\n",
       "       dropoff_latitude  \n",
       "count      16067.000000  \n",
       "mean          39.897906  \n",
       "std            6.187087  \n",
       "min          -74.006377  \n",
       "25%           40.734651  \n",
       "50%           40.753567  \n",
       "75%           40.768013  \n",
       "max           41.366138  "
      ]
     },
     "execution_count": 9,
     "metadata": {},
     "output_type": "execute_result"
    }
   ],
   "source": [
    "cab_data.describe()"
   ]
  },
  {
   "cell_type": "markdown",
   "metadata": {},
   "source": [
    "#### Visualizing Categorical Variables"
   ]
  },
  {
   "cell_type": "code",
   "execution_count": 10,
   "metadata": {},
   "outputs": [
    {
     "data": {
      "text/plain": [
       "<matplotlib.axes._subplots.AxesSubplot at 0x2b690910fa0>"
      ]
     },
     "execution_count": 10,
     "metadata": {},
     "output_type": "execute_result"
    },
    {
     "data": {
      "image/png": "[encoded data removed]",
      "text/plain": [
       "<Figure size 1440x360 with 1 Axes>"
      ]
     },
     "metadata": {
      "needs_background": "light"
     },
     "output_type": "display_data"
    }
   ],
   "source": [
    "plt.figure(figsize=(20,5))\n",
    "sns.countplot(x=\"pickup_month\", data=cab_data)"
   ]
  },
  {
   "cell_type": "code",
   "execution_count": 11,
   "metadata": {},
   "outputs": [
    {
     "data": {
      "text/plain": [
       "<matplotlib.axes._subplots.AxesSubplot at 0x2b69e98d5e0>"
      ]
     },
     "execution_count": 11,
     "metadata": {},
     "output_type": "execute_result"
    },
    {
     "data": {
      "image/png": "[encoded data removed]",
      "text/plain": [
       "<Figure size 1080x360 with 1 Axes>"
      ]
     },
     "metadata": {
      "needs_background": "light"
     },
     "output_type": "display_data"
    }
   ],
   "source": [
    "plt.figure(figsize=(15,5))\n",
    "sns.countplot(x=\"pickup_day\", data=cab_data)"
   ]
  },
  {
   "cell_type": "code",
   "execution_count": 12,
   "metadata": {},
   "outputs": [
    {
     "data": {
      "text/plain": [
       "<matplotlib.axes._subplots.AxesSubplot at 0x2b69e9b8400>"
      ]
     },
     "execution_count": 12,
     "metadata": {},
     "output_type": "execute_result"
    },
    {
     "data": {
      "image/png": "[encoded data removed]",
      "text/plain": [
       "<Figure size 1080x360 with 1 Axes>"
      ]
     },
     "metadata": {
      "needs_background": "light"
     },
     "output_type": "display_data"
    }
   ],
   "source": [
    "plt.figure(figsize=(15,5))\n",
    "sns.countplot(x=\"pickup_hour\", data=cab_data)"
   ]
  },
  {
   "cell_type": "code",
   "execution_count": 13,
   "metadata": {},
   "outputs": [
    {
     "data": {
      "text/plain": [
       "<matplotlib.axes._subplots.AxesSubplot at 0x2b69ea70640>"
      ]
     },
     "execution_count": 13,
     "metadata": {},
     "output_type": "execute_result"
    },
    {
     "data": {
      "image/png": "[encoded data removed]",
      "text/plain": [
       "<Figure size 1440x360 with 1 Axes>"
      ]
     },
     "metadata": {
      "needs_background": "light"
     },
     "output_type": "display_data"
    }
   ],
   "source": [
    "plt.figure(figsize=(20,5))\n",
    "sns.countplot(x=\"passenger_count\", data=cab_data)"
   ]
  },
  {
   "cell_type": "markdown",
   "metadata": {},
   "source": [
    "#### Initial cleaning of data"
   ]
  },
  {
   "cell_type": "code",
   "execution_count": 14,
   "metadata": {},
   "outputs": [],
   "source": [
    "#A CAb can have passsenger values between 1 and 6 and only integer values\n",
    "lis=[1,2,3,4,5,6]\n",
    "d1=cab_data['passenger_count'].copy()\n",
    "for i in range (0,d1.shape[0]):\n",
    "    if (d1[i] not in lis):\n",
    "        d1[i]=np.nan\n",
    "        \n",
    "cab_data['passenger_count']=d1.astype('category')"
   ]
  },
  {
   "cell_type": "code",
   "execution_count": 15,
   "metadata": {},
   "outputs": [],
   "source": [
    "#Cab Fare cannot be -ve or 0, replacing it with na\n",
    "cab_data['fare_amount'] = np.where(cab_data['fare_amount']<=0,np.nan,cab_data['fare_amount'])\n"
   ]
  },
  {
   "cell_type": "code",
   "execution_count": 16,
   "metadata": {},
   "outputs": [],
   "source": [
    "#coordinates cant be 0 and latitude cannot be greater 90 thus dropping those observations\n",
    "cab_data = cab_data[cab_data['pickup_longitude']!=0]\n",
    "cab_data = cab_data[cab_data['pickup_latitude']!=0]\n",
    "cab_data = cab_data[cab_data['dropoff_longitude']!=0]\n",
    "cab_data = cab_data[cab_data['dropoff_latitude']!=0]\n",
    "cab_data = cab_data[cab_data['pickup_latitude']<=90]"
   ]
  },
  {
   "cell_type": "markdown",
   "metadata": {},
   "source": [
    "# Missing Value Analysis "
   ]
  },
  {
   "cell_type": "code",
   "execution_count": 17,
   "metadata": {},
   "outputs": [
    {
     "data": {
      "text/html": [
       "<div>\n",
       "<style scoped>\n",
       "    .dataframe tbody tr th:only-of-type {\n",
       "        vertical-align: middle;\n",
       "    }\n",
       "\n",
       "    .dataframe tbody tr th {\n",
       "        vertical-align: top;\n",
       "    }\n",
       "\n",
       "    .dataframe thead th {\n",
       "        text-align: right;\n",
       "    }\n",
       "</style>\n",
       "<table border=\"1\" class=\"dataframe\">\n",
       "  <thead>\n",
       "    <tr style=\"text-align: right;\">\n",
       "      <th></th>\n",
       "      <th>Variables</th>\n",
       "      <th>Missing_percentage</th>\n",
       "    </tr>\n",
       "  </thead>\n",
       "  <tbody>\n",
       "    <tr>\n",
       "      <th>0</th>\n",
       "      <td>passenger_count</td>\n",
       "      <td>0.825921</td>\n",
       "    </tr>\n",
       "    <tr>\n",
       "      <th>1</th>\n",
       "      <td>fare_amount</td>\n",
       "      <td>0.171537</td>\n",
       "    </tr>\n",
       "    <tr>\n",
       "      <th>2</th>\n",
       "      <td>pickup_month</td>\n",
       "      <td>0.006353</td>\n",
       "    </tr>\n",
       "    <tr>\n",
       "      <th>3</th>\n",
       "      <td>pickup_day</td>\n",
       "      <td>0.006353</td>\n",
       "    </tr>\n",
       "    <tr>\n",
       "      <th>4</th>\n",
       "      <td>pickup_hour</td>\n",
       "      <td>0.006353</td>\n",
       "    </tr>\n",
       "    <tr>\n",
       "      <th>5</th>\n",
       "      <td>pickup_longitude</td>\n",
       "      <td>0.000000</td>\n",
       "    </tr>\n",
       "    <tr>\n",
       "      <th>6</th>\n",
       "      <td>pickup_latitude</td>\n",
       "      <td>0.000000</td>\n",
       "    </tr>\n",
       "    <tr>\n",
       "      <th>7</th>\n",
       "      <td>dropoff_longitude</td>\n",
       "      <td>0.000000</td>\n",
       "    </tr>\n",
       "    <tr>\n",
       "      <th>8</th>\n",
       "      <td>dropoff_latitude</td>\n",
       "      <td>0.000000</td>\n",
       "    </tr>\n",
       "  </tbody>\n",
       "</table>\n",
       "</div>"
      ],
      "text/plain": [
       "           Variables  Missing_percentage\n",
       "0    passenger_count            0.825921\n",
       "1        fare_amount            0.171537\n",
       "2       pickup_month            0.006353\n",
       "3         pickup_day            0.006353\n",
       "4        pickup_hour            0.006353\n",
       "5   pickup_longitude            0.000000\n",
       "6    pickup_latitude            0.000000\n",
       "7  dropoff_longitude            0.000000\n",
       "8   dropoff_latitude            0.000000"
      ]
     },
     "execution_count": 17,
     "metadata": {},
     "output_type": "execute_result"
    }
   ],
   "source": [
    "\n",
    "#Create dataframe with missing percentage\n",
    "missing_val = pd.DataFrame(cab_data.isnull().sum())\n",
    "missing_val = missing_val.reset_index()\n",
    "missing_val = missing_val.rename(columns = {'index': 'Variables', 0: 'Missing_percentage'})\n",
    "missing_val['Missing_percentage'] = (missing_val['Missing_percentage']/len(cab_data))*100\n",
    "missing_val = missing_val.sort_values('Missing_percentage', ascending = False).reset_index(drop = True)\n",
    "\n",
    "missing_val"
   ]
  },
  {
   "cell_type": "code",
   "execution_count": 18,
   "metadata": {},
   "outputs": [],
   "source": [
    "#Dropping observations with NA\n",
    "cab_data=cab_data.dropna()"
   ]
  },
  {
   "cell_type": "code",
   "execution_count": 19,
   "metadata": {},
   "outputs": [
    {
     "data": {
      "text/plain": [
       "(15583, 9)"
      ]
     },
     "execution_count": 19,
     "metadata": {},
     "output_type": "execute_result"
    }
   ],
   "source": [
    "#chicking the dimensions of the data frame\n",
    "cab_data.shape"
   ]
  },
  {
   "cell_type": "markdown",
   "metadata": {},
   "source": [
    "# Outlier Analysis"
   ]
  },
  {
   "cell_type": "code",
   "execution_count": 20,
   "metadata": {},
   "outputs": [
    {
     "data": {
      "text/plain": [
       "{'whiskers': [<matplotlib.lines.Line2D at 0x2b69eb76c10>,\n",
       "  <matplotlib.lines.Line2D at 0x2b69eb76f70>],\n",
       " 'caps': [<matplotlib.lines.Line2D at 0x2b69eb82310>,\n",
       "  <matplotlib.lines.Line2D at 0x2b69eb82670>],\n",
       " 'boxes': [<matplotlib.lines.Line2D at 0x2b69eb768b0>],\n",
       " 'medians': [<matplotlib.lines.Line2D at 0x2b69eb829d0>],\n",
       " 'fliers': [<matplotlib.lines.Line2D at 0x2b69eb82cd0>],\n",
       " 'means': []}"
      ]
     },
     "execution_count": 20,
     "metadata": {},
     "output_type": "execute_result"
    },
    {
     "data": {
      "image/png": "[encoded data removed]",
      "text/plain": [
       "<Figure size 432x288 with 1 Axes>"
      ]
     },
     "metadata": {
      "needs_background": "light"
     },
     "output_type": "display_data"
    }
   ],
   "source": [
    "plt.boxplot(cab_data['pickup_latitude'])"
   ]
  },
  {
   "cell_type": "code",
   "execution_count": 21,
   "metadata": {},
   "outputs": [
    {
     "data": {
      "text/plain": [
       "{'whiskers': [<matplotlib.lines.Line2D at 0x2b69f189130>,\n",
       "  <matplotlib.lines.Line2D at 0x2b69f189490>],\n",
       " 'caps': [<matplotlib.lines.Line2D at 0x2b69f1897f0>,\n",
       "  <matplotlib.lines.Line2D at 0x2b69f189b50>],\n",
       " 'boxes': [<matplotlib.lines.Line2D at 0x2b69f17bd90>],\n",
       " 'medians': [<matplotlib.lines.Line2D at 0x2b69f189eb0>],\n",
       " 'fliers': [<matplotlib.lines.Line2D at 0x2b69f1941f0>],\n",
       " 'means': []}"
      ]
     },
     "execution_count": 21,
     "metadata": {},
     "output_type": "execute_result"
    },
    {
     "data": {
      "image/png": "[encoded data removed]",
      "text/plain": [
       "<Figure size 432x288 with 1 Axes>"
      ]
     },
     "metadata": {
      "needs_background": "light"
     },
     "output_type": "display_data"
    }
   ],
   "source": [
    "plt.boxplot(cab_data['pickup_longitude'])"
   ]
  },
  {
   "cell_type": "code",
   "execution_count": 22,
   "metadata": {},
   "outputs": [
    {
     "data": {
      "text/plain": [
       "{'whiskers': [<matplotlib.lines.Line2D at 0x2b69f1d9b20>,\n",
       "  <matplotlib.lines.Line2D at 0x2b69f1d9e80>],\n",
       " 'caps': [<matplotlib.lines.Line2D at 0x2b69f1e8220>,\n",
       "  <matplotlib.lines.Line2D at 0x2b69f1e8580>],\n",
       " 'boxes': [<matplotlib.lines.Line2D at 0x2b69f1d97c0>],\n",
       " 'medians': [<matplotlib.lines.Line2D at 0x2b69f1e88e0>],\n",
       " 'fliers': [<matplotlib.lines.Line2D at 0x2b69f1e8be0>],\n",
       " 'means': []}"
      ]
     },
     "execution_count": 22,
     "metadata": {},
     "output_type": "execute_result"
    },
    {
     "data": {
      "image/png": "[encoded data removed]",
      "text/plain": [
       "<Figure size 432x288 with 1 Axes>"
      ]
     },
     "metadata": {
      "needs_background": "light"
     },
     "output_type": "display_data"
    }
   ],
   "source": [
    "plt.boxplot(cab_data['dropoff_longitude'])"
   ]
  },
  {
   "cell_type": "code",
   "execution_count": 23,
   "metadata": {},
   "outputs": [
    {
     "data": {
      "text/plain": [
       "{'whiskers': [<matplotlib.lines.Line2D at 0x2b69f245430>,\n",
       "  <matplotlib.lines.Line2D at 0x2b69f245790>],\n",
       " 'caps': [<matplotlib.lines.Line2D at 0x2b69f245af0>,\n",
       "  <matplotlib.lines.Line2D at 0x2b69f245e50>],\n",
       " 'boxes': [<matplotlib.lines.Line2D at 0x2b69f2450d0>],\n",
       " 'medians': [<matplotlib.lines.Line2D at 0x2b69f24f1f0>],\n",
       " 'fliers': [<matplotlib.lines.Line2D at 0x2b69f24f4f0>],\n",
       " 'means': []}"
      ]
     },
     "execution_count": 23,
     "metadata": {},
     "output_type": "execute_result"
    },
    {
     "data": {
      "image/png": "[encoded data removed]",
      "text/plain": [
       "<Figure size 432x288 with 1 Axes>"
      ]
     },
     "metadata": {
      "needs_background": "light"
     },
     "output_type": "display_data"
    }
   ],
   "source": [
    "plt.boxplot(cab_data['dropoff_latitude'])"
   ]
  },
  {
   "cell_type": "code",
   "execution_count": 24,
   "metadata": {},
   "outputs": [
    {
     "data": {
      "text/plain": [
       "{'whiskers': [<matplotlib.lines.Line2D at 0x2b6a0268130>,\n",
       "  <matplotlib.lines.Line2D at 0x2b6a0268490>],\n",
       " 'caps': [<matplotlib.lines.Line2D at 0x2b6a02687f0>,\n",
       "  <matplotlib.lines.Line2D at 0x2b6a0268b50>],\n",
       " 'boxes': [<matplotlib.lines.Line2D at 0x2b6a0258d90>],\n",
       " 'medians': [<matplotlib.lines.Line2D at 0x2b6a0268eb0>],\n",
       " 'fliers': [<matplotlib.lines.Line2D at 0x2b6a02721f0>],\n",
       " 'means': []}"
      ]
     },
     "execution_count": 24,
     "metadata": {},
     "output_type": "execute_result"
    },
    {
     "data": {
      "image/png": "[encoded data removed]",
      "text/plain": [
       "<Figure size 432x288 with 1 Axes>"
      ]
     },
     "metadata": {
      "needs_background": "light"
     },
     "output_type": "display_data"
    }
   ],
   "source": [
    "plt.boxplot(cab_data['fare_amount'])"
   ]
  },
  {
   "cell_type": "code",
   "execution_count": 25,
   "metadata": {
    "scrolled": true
   },
   "outputs": [],
   "source": [
    "#Detecting outliers and replacing with na\n",
    "#saving the column names showing outliers\n",
    "onames=['pickup_longitude','pickup_latitude','dropoff_longitude','dropoff_latitude', \"fare_amount\"]\n",
    "for i in onames :\n",
    "    q75,q25=np.percentile(cab_data.loc[:,i],[75,25])\n",
    "    iqr=q75-q25\n",
    "    min=q25-(iqr*1.5)\n",
    "    max=q75+(iqr*1.5)\n",
    "    cab_data[i] = np.where(cab_data[i]< min,np.nan,cab_data[i])\n",
    "    cab_data[i] = np.where(cab_data[i]>max,np.nan,cab_data[i])\n",
    "    \n"
   ]
  },
  {
   "cell_type": "code",
   "execution_count": 26,
   "metadata": {},
   "outputs": [],
   "source": [
    "#Dropping outlier observations\n",
    "cab_data=cab_data.dropna()"
   ]
  },
  {
   "cell_type": "markdown",
   "metadata": {},
   "source": [
    "# Feature Engineering"
   ]
  },
  {
   "cell_type": "code",
   "execution_count": 27,
   "metadata": {},
   "outputs": [],
   "source": [
    "#Calculating distance from coordinates\n",
    "from math import sin, cos, sqrt, atan2, radians,asin\n",
    "#Calculate the great circle distance between two points on the earth (specified in decimal degrees)\n",
    "def dist(lon1, lat1, lon2, lat2):\n",
    "    # Convert latitude and longitude to radians\n",
    "    lon1, lat1, lon2, lat2 = map(np.radians, [lon1, lat1, lon2, lat2])\n",
    "    # Find the differences\n",
    "    dlon = lon2 - lon1\n",
    "    dlat = lat2 - lat1\n",
    "    # Apply the formula \n",
    "    a = np.sin(dlat/2)**2 + np.cos(lat1) * np.cos(lat2) * np.sin(dlon/2)**2\n",
    "    # Calculate the angle (in radians)\n",
    "    c = 2 * np.arcsin(np.sqrt(a))\n",
    "    # Convert to kilometers\n",
    "    km = 6367 * c\n",
    "    return km                                          "
   ]
  },
  {
   "cell_type": "code",
   "execution_count": 28,
   "metadata": {},
   "outputs": [],
   "source": [
    "#Calculating dist on the basis of coordinates\n",
    "cab_data['Distance_KM'] =  dist(cab_data['pickup_longitude'], cab_data['pickup_latitude'],cab_data['dropoff_longitude'], \n",
    "                                cab_data['dropoff_latitude']) "
   ]
  },
  {
   "cell_type": "code",
   "execution_count": 29,
   "metadata": {},
   "outputs": [
    {
     "data": {
      "text/plain": [
       "113"
      ]
     },
     "execution_count": 29,
     "metadata": {},
     "output_type": "execute_result"
    }
   ],
   "source": [
    "#observations with Distance equal to zero\n",
    "sum(cab_data['Distance_KM']==0)"
   ]
  },
  {
   "cell_type": "code",
   "execution_count": 30,
   "metadata": {},
   "outputs": [],
   "source": [
    "#Distance cannot be zero\n",
    "cab_data = cab_data[cab_data['Distance_KM']!=0]"
   ]
  },
  {
   "cell_type": "code",
   "execution_count": 31,
   "metadata": {},
   "outputs": [
    {
     "data": {
      "image/png": "[encoded data removed]",
      "text/plain": [
       "<Figure size 432x288 with 1 Axes>"
      ]
     },
     "metadata": {
      "needs_background": "light"
     },
     "output_type": "display_data"
    }
   ],
   "source": [
    "#Visualising  distance vs fare amount\n",
    "ax = sns.scatterplot(x=\"Distance_KM\", y=\"fare_amount\", data=cab_data)"
   ]
  },
  {
   "cell_type": "code",
   "execution_count": 32,
   "metadata": {
    "scrolled": true
   },
   "outputs": [],
   "source": [
    "#Rearraging columns\n",
    "column_names = ['pickup_longitude','pickup_latitude','dropoff_longitude','dropoff_latitude',\n",
    "                \"passenger_count\", \"pickup_month\", \"pickup_day\", \"pickup_hour\", \"Distance_KM\", \"fare_amount\"]\n",
    "\n",
    "cab_data = cab_data.reindex(columns=column_names)\n"
   ]
  },
  {
   "cell_type": "code",
   "execution_count": 33,
   "metadata": {},
   "outputs": [],
   "source": [
    "#Correcting the datatypes\n",
    "cab_data['passenger_count']=cab_data['passenger_count'].astype('category')\n",
    "cab_data['pickup_month']=cab_data['pickup_month'].astype('category')\n",
    "cab_data['pickup_hour']=cab_data['pickup_hour'].astype('category')\n",
    "cab_data['pickup_day']=cab_data['pickup_day'].astype('category')"
   ]
  },
  {
   "cell_type": "markdown",
   "metadata": {},
   "source": [
    "# Correlation analysis"
   ]
  },
  {
   "cell_type": "code",
   "execution_count": 34,
   "metadata": {},
   "outputs": [
    {
     "data": {
      "text/plain": [
       "<matplotlib.axes._subplots.AxesSubplot at 0x2b6a02f2c40>"
      ]
     },
     "execution_count": 34,
     "metadata": {},
     "output_type": "execute_result"
    },
    {
     "data": {
      "image/png": "[encoded data removed]",
      "text/plain": [
       "<Figure size 720x720 with 2 Axes>"
      ]
     },
     "metadata": {
      "needs_background": "light"
     },
     "output_type": "display_data"
    }
   ],
   "source": [
    "\n",
    "cont_names = [\"fare_amount\", \"Distance_KM\",'pickup_latitude','pickup_longitude','dropoff_longitude','dropoff_latitude']\n",
    "#Correlation plot\n",
    "df_corr = cab_data.loc[:,cont_names]\n",
    "#Set the width and hieght of the plot\n",
    "f, ax = plt.subplots(figsize=(10, 10))\n",
    "#Generate correlation matrix\n",
    "corr = df_corr.corr()\n",
    "#Plot using seaborn library\n",
    "sns.heatmap(corr, mask=np.zeros_like(corr, dtype=np.bool), cmap=sns.diverging_palette(220, 10, as_cmap=True), \n",
    "            annot = True , square=True, ax=ax)\n"
   ]
  },
  {
   "cell_type": "markdown",
   "metadata": {},
   "source": [
    "# Simple Random Sampling"
   ]
  },
  {
   "cell_type": "code",
   "execution_count": 35,
   "metadata": {},
   "outputs": [],
   "source": [
    "Sample_Index = np.random.rand(len(cab_data)) < 0.8\n",
    "\n",
    "train_1 = cab_data[Sample_Index]\n",
    "test_1 = cab_data[~Sample_Index]"
   ]
  },
  {
   "cell_type": "markdown",
   "metadata": {},
   "source": [
    "# Linear Regression Model"
   ]
  },
  {
   "cell_type": "markdown",
   "metadata": {},
   "source": [
    "### Normality check"
   ]
  },
  {
   "cell_type": "code",
   "execution_count": 36,
   "metadata": {},
   "outputs": [
    {
     "data": {
      "text/plain": [
       "(array([ 85.,  91., 206., 425., 576., 782., 742., 861., 785., 747., 616.,\n",
       "        694., 567., 538., 461., 496., 414., 384., 349., 313., 277., 248.,\n",
       "        250., 207., 173., 182., 150., 176., 124., 135., 112., 120., 102.,\n",
       "         84.,  75.,  78.,  64.,  71.,  63.,  51.,  54.,  51.,  31.,  28.,\n",
       "         29.,  26.,  21.,  18.,  13.,   9.,  12.,  10.,  11.,   7.,   9.,\n",
       "          6.,   0.,   3.,   8.,   3.,   5.,   3.,   3.,   1.,   1.,   0.,\n",
       "          1.,   0.,   1.,   0.,   2.]),\n",
       " array([2.01741714e-04, 1.60849794e-01, 3.21497846e-01, 4.82145898e-01,\n",
       "        6.42793950e-01, 8.03442002e-01, 9.64090054e-01, 1.12473811e+00,\n",
       "        1.28538616e+00, 1.44603421e+00, 1.60668226e+00, 1.76733031e+00,\n",
       "        1.92797837e+00, 2.08862642e+00, 2.24927447e+00, 2.40992252e+00,\n",
       "        2.57057057e+00, 2.73121863e+00, 2.89186668e+00, 3.05251473e+00,\n",
       "        3.21316278e+00, 3.37381083e+00, 3.53445889e+00, 3.69510694e+00,\n",
       "        3.85575499e+00, 4.01640304e+00, 4.17705109e+00, 4.33769915e+00,\n",
       "        4.49834720e+00, 4.65899525e+00, 4.81964330e+00, 4.98029135e+00,\n",
       "        5.14093941e+00, 5.30158746e+00, 5.46223551e+00, 5.62288356e+00,\n",
       "        5.78353162e+00, 5.94417967e+00, 6.10482772e+00, 6.26547577e+00,\n",
       "        6.42612382e+00, 6.58677188e+00, 6.74741993e+00, 6.90806798e+00,\n",
       "        7.06871603e+00, 7.22936408e+00, 7.39001214e+00, 7.55066019e+00,\n",
       "        7.71130824e+00, 7.87195629e+00, 8.03260434e+00, 8.19325240e+00,\n",
       "        8.35390045e+00, 8.51454850e+00, 8.67519655e+00, 8.83584460e+00,\n",
       "        8.99649266e+00, 9.15714071e+00, 9.31778876e+00, 9.47843681e+00,\n",
       "        9.63908486e+00, 9.79973292e+00, 9.96038097e+00, 1.01210290e+01,\n",
       "        1.02816771e+01, 1.04423251e+01, 1.06029732e+01, 1.07636212e+01,\n",
       "        1.09242693e+01, 1.10849173e+01, 1.12455654e+01, 1.14062134e+01]),\n",
       " <a list of 71 Patch objects>)"
      ]
     },
     "execution_count": 36,
     "metadata": {},
     "output_type": "execute_result"
    },
    {
     "data": {
      "image/png": "[encoded data removed]",
      "text/plain": [
       "<Figure size 432x288 with 1 Axes>"
      ]
     },
     "metadata": {
      "needs_background": "light"
     },
     "output_type": "display_data"
    }
   ],
   "source": [
    "plt.hist(cab_data['Distance_KM'], bins='auto')"
   ]
  },
  {
   "cell_type": "code",
   "execution_count": 37,
   "metadata": {},
   "outputs": [
    {
     "data": {
      "text/plain": [
       "(array([ 33.,  86.,  47.,  53., 122., 261., 335., 342., 300., 265., 277.,\n",
       "        323., 375., 466., 628., 553., 625., 562., 561., 696., 670., 503.,\n",
       "        570., 436., 427., 390., 322., 309., 288., 261., 227., 267., 254.,\n",
       "        205., 271., 284., 200., 144.,  94.,  73.,  60.,  15.,   7.,  18.,\n",
       "         17.,   9.,   3.,   6.]),\n",
       " array([-74.018108  , -74.01630965, -74.01451129, -74.01271294,\n",
       "        -74.01091458, -74.00911623, -74.00731787, -74.00551952,\n",
       "        -74.00372117, -74.00192281, -74.00012446, -73.9983261 ,\n",
       "        -73.99652775, -73.9947294 , -73.99293104, -73.99113269,\n",
       "        -73.98933433, -73.98753598, -73.98573762, -73.98393927,\n",
       "        -73.98214092, -73.98034256, -73.97854421, -73.97674585,\n",
       "        -73.9749475 , -73.97314915, -73.97135079, -73.96955244,\n",
       "        -73.96775408, -73.96595573, -73.96415737, -73.96235902,\n",
       "        -73.96056067, -73.95876231, -73.95696396, -73.9551656 ,\n",
       "        -73.95336725, -73.9515689 , -73.94977054, -73.94797219,\n",
       "        -73.94617383, -73.94437548, -73.94257712, -73.94077877,\n",
       "        -73.93898042, -73.93718206, -73.93538371, -73.93358535,\n",
       "        -73.931787  ]),\n",
       " <a list of 48 Patch objects>)"
      ]
     },
     "execution_count": 37,
     "metadata": {},
     "output_type": "execute_result"
    },
    {
     "data": {
      "image/png": "[encoded data removed]",
      "text/plain": [
       "<Figure size 432x288 with 1 Axes>"
      ]
     },
     "metadata": {
      "needs_background": "light"
     },
     "output_type": "display_data"
    }
   ],
   "source": [
    "plt.hist(cab_data['pickup_longitude'], bins='auto')"
   ]
  },
  {
   "cell_type": "code",
   "execution_count": 38,
   "metadata": {},
   "outputs": [
    {
     "data": {
      "text/plain": [
       "(array([ 20.,  15.,   5.,   4.,   4.,  47.,  74.,  88.,  86.,  87., 149.,\n",
       "        160., 255., 272., 311., 279., 308., 340., 373., 336., 438., 525.,\n",
       "        483., 419., 518., 703., 490., 604., 593., 637., 685., 552., 420.,\n",
       "        381., 338., 327., 319., 357., 261., 178., 168., 138.,  87., 102.,\n",
       "         59.,  58.,  36.,  37.,  52.,  35.,  17.,  10.]),\n",
       " array([40.689736  , 40.69213581, 40.69453562, 40.69693542, 40.69933523,\n",
       "        40.70173504, 40.70413485, 40.70653465, 40.70893446, 40.71133427,\n",
       "        40.71373408, 40.71613388, 40.71853369, 40.7209335 , 40.72333331,\n",
       "        40.72573312, 40.72813292, 40.73053273, 40.73293254, 40.73533235,\n",
       "        40.73773215, 40.74013196, 40.74253177, 40.74493158, 40.74733138,\n",
       "        40.74973119, 40.752131  , 40.75453081, 40.75693062, 40.75933042,\n",
       "        40.76173023, 40.76413004, 40.76652985, 40.76892965, 40.77132946,\n",
       "        40.77372927, 40.77612908, 40.77852888, 40.78092869, 40.7833285 ,\n",
       "        40.78572831, 40.78812812, 40.79052792, 40.79292773, 40.79532754,\n",
       "        40.79772735, 40.80012715, 40.80252696, 40.80492677, 40.80732658,\n",
       "        40.80972638, 40.81212619, 40.814526  ]),\n",
       " <a list of 52 Patch objects>)"
      ]
     },
     "execution_count": 38,
     "metadata": {},
     "output_type": "execute_result"
    },
    {
     "data": {
      "image/png": "[encoded data removed]",
      "text/plain": [
       "<Figure size 432x288 with 1 Axes>"
      ]
     },
     "metadata": {
      "needs_background": "light"
     },
     "output_type": "display_data"
    }
   ],
   "source": [
    "plt.hist(cab_data['pickup_latitude'], bins='auto')"
   ]
  },
  {
   "cell_type": "code",
   "execution_count": 39,
   "metadata": {},
   "outputs": [
    {
     "data": {
      "text/plain": [
       "(array([  8.,  44.,  68.,  80., 102., 165., 247., 328., 275., 283., 269.,\n",
       "        258., 301., 363., 446., 633., 637., 569., 547., 523., 718., 601.,\n",
       "        629., 523., 505., 455., 359., 293., 281., 254., 222., 278., 239.,\n",
       "        230., 253., 283., 257., 157., 127., 123.,  76.,  53.,  38.,  33.,\n",
       "         32.,  18.,  14.,  16.,   5.,  14.,   8.]),\n",
       " array([-74.019535  , -74.01771376, -74.01589253, -74.01407129,\n",
       "        -74.01225006, -74.01042882, -74.00860759, -74.00678635,\n",
       "        -74.00496512, -74.00314388, -74.00132265, -73.99950141,\n",
       "        -73.99768018, -73.99585894, -73.99403771, -73.99221647,\n",
       "        -73.99039524, -73.988574  , -73.98675276, -73.98493153,\n",
       "        -73.98311029, -73.98128906, -73.97946782, -73.97764659,\n",
       "        -73.97582535, -73.97400412, -73.97218288, -73.97036165,\n",
       "        -73.96854041, -73.96671918, -73.96489794, -73.96307671,\n",
       "        -73.96125547, -73.95943424, -73.957613  , -73.95579176,\n",
       "        -73.95397053, -73.95214929, -73.95032806, -73.94850682,\n",
       "        -73.94668559, -73.94486435, -73.94304312, -73.94122188,\n",
       "        -73.93940065, -73.93757941, -73.93575818, -73.93393694,\n",
       "        -73.93211571, -73.93029447, -73.92847324, -73.926652  ]),\n",
       " <a list of 51 Patch objects>)"
      ]
     },
     "execution_count": 39,
     "metadata": {},
     "output_type": "execute_result"
    },
    {
     "data": {
      "image/png": "[encoded data removed]",
      "text/plain": [
       "<Figure size 432x288 with 1 Axes>"
      ]
     },
     "metadata": {
      "needs_background": "light"
     },
     "output_type": "display_data"
    }
   ],
   "source": [
    "#Normality check\n",
    "%matplotlib inline  \n",
    "plt.hist(cab_data['dropoff_longitude'], bins='auto')"
   ]
  },
  {
   "cell_type": "code",
   "execution_count": 40,
   "metadata": {},
   "outputs": [
    {
     "data": {
      "text/plain": [
       "(array([ 28.,  27.,  31.,  23.,  16.,  44.,  75., 104., 110.,  95., 124.,\n",
       "        166., 183., 228., 290., 291., 266., 295., 301., 323., 360., 484.,\n",
       "        410., 446., 403., 711., 585., 547., 632., 713., 697., 604., 401.,\n",
       "        358., 350., 355., 324., 331., 273., 245., 179., 165., 118.,  93.,\n",
       "         78.,  59.,  64.,  53.,  67.,  48.,  37.,  14.,  16.]),\n",
       " array([40.688335  , 40.69074894, 40.69316289, 40.69557683, 40.69799077,\n",
       "        40.70040472, 40.70281866, 40.7052326 , 40.70764655, 40.71006049,\n",
       "        40.71247443, 40.71488838, 40.71730232, 40.71971626, 40.72213021,\n",
       "        40.72454415, 40.72695809, 40.72937204, 40.73178598, 40.73419992,\n",
       "        40.73661387, 40.73902781, 40.74144175, 40.7438557 , 40.74626964,\n",
       "        40.74868358, 40.75109753, 40.75351147, 40.75592542, 40.75833936,\n",
       "        40.7607533 , 40.76316725, 40.76558119, 40.76799513, 40.77040908,\n",
       "        40.77282302, 40.77523696, 40.77765091, 40.78006485, 40.78247879,\n",
       "        40.78489274, 40.78730668, 40.78972062, 40.79213457, 40.79454851,\n",
       "        40.79696245, 40.7993764 , 40.80179034, 40.80420428, 40.80661823,\n",
       "        40.80903217, 40.81144611, 40.81386006, 40.816274  ]),\n",
       " <a list of 53 Patch objects>)"
      ]
     },
     "execution_count": 40,
     "metadata": {},
     "output_type": "execute_result"
    },
    {
     "data": {
      "image/png": "[encoded data removed]",
      "text/plain": [
       "<Figure size 432x288 with 1 Axes>"
      ]
     },
     "metadata": {
      "needs_background": "light"
     },
     "output_type": "display_data"
    }
   ],
   "source": [
    "plt.hist(cab_data['dropoff_latitude'], bins='auto')"
   ]
  },
  {
   "cell_type": "code",
   "execution_count": 41,
   "metadata": {},
   "outputs": [
    {
     "data": {
      "text/html": [
       "<div>\n",
       "<style scoped>\n",
       "    .dataframe tbody tr th:only-of-type {\n",
       "        vertical-align: middle;\n",
       "    }\n",
       "\n",
       "    .dataframe tbody tr th {\n",
       "        vertical-align: top;\n",
       "    }\n",
       "\n",
       "    .dataframe thead th {\n",
       "        text-align: right;\n",
       "    }\n",
       "</style>\n",
       "<table border=\"1\" class=\"dataframe\">\n",
       "  <thead>\n",
       "    <tr style=\"text-align: right;\">\n",
       "      <th></th>\n",
       "      <th>pickup_longitude</th>\n",
       "      <th>pickup_latitude</th>\n",
       "      <th>dropoff_longitude</th>\n",
       "      <th>dropoff_latitude</th>\n",
       "      <th>Distance_KM</th>\n",
       "      <th>passenger_count_0.0</th>\n",
       "      <th>passenger_count_0.12</th>\n",
       "      <th>passenger_count_1.0</th>\n",
       "      <th>passenger_count_1.3</th>\n",
       "      <th>passenger_count_2.0</th>\n",
       "      <th>...</th>\n",
       "      <th>pickup_hour_15.0</th>\n",
       "      <th>pickup_hour_16.0</th>\n",
       "      <th>pickup_hour_17.0</th>\n",
       "      <th>pickup_hour_18.0</th>\n",
       "      <th>pickup_hour_19.0</th>\n",
       "      <th>pickup_hour_20.0</th>\n",
       "      <th>pickup_hour_21.0</th>\n",
       "      <th>pickup_hour_22.0</th>\n",
       "      <th>pickup_hour_23.0</th>\n",
       "      <th>fare_amount</th>\n",
       "    </tr>\n",
       "  </thead>\n",
       "  <tbody>\n",
       "    <tr>\n",
       "      <th>1</th>\n",
       "      <td>0.023864</td>\n",
       "      <td>0.172826</td>\n",
       "      <td>0.433524</td>\n",
       "      <td>0.732138</td>\n",
       "      <td>0.740366</td>\n",
       "      <td>0</td>\n",
       "      <td>0</td>\n",
       "      <td>1</td>\n",
       "      <td>0</td>\n",
       "      <td>0</td>\n",
       "      <td>...</td>\n",
       "      <td>0</td>\n",
       "      <td>1</td>\n",
       "      <td>0</td>\n",
       "      <td>0</td>\n",
       "      <td>0</td>\n",
       "      <td>0</td>\n",
       "      <td>0</td>\n",
       "      <td>0</td>\n",
       "      <td>0</td>\n",
       "      <td>16.9</td>\n",
       "    </tr>\n",
       "    <tr>\n",
       "      <th>2</th>\n",
       "      <td>0.409750</td>\n",
       "      <td>0.573235</td>\n",
       "      <td>0.304609</td>\n",
       "      <td>0.486380</td>\n",
       "      <td>0.121730</td>\n",
       "      <td>0</td>\n",
       "      <td>0</td>\n",
       "      <td>0</td>\n",
       "      <td>0</td>\n",
       "      <td>1</td>\n",
       "      <td>...</td>\n",
       "      <td>0</td>\n",
       "      <td>0</td>\n",
       "      <td>0</td>\n",
       "      <td>0</td>\n",
       "      <td>0</td>\n",
       "      <td>0</td>\n",
       "      <td>0</td>\n",
       "      <td>0</td>\n",
       "      <td>0</td>\n",
       "      <td>5.7</td>\n",
       "    </tr>\n",
       "    <tr>\n",
       "      <th>3</th>\n",
       "      <td>0.358870</td>\n",
       "      <td>0.347840</td>\n",
       "      <td>0.301110</td>\n",
       "      <td>0.545236</td>\n",
       "      <td>0.245249</td>\n",
       "      <td>0</td>\n",
       "      <td>0</td>\n",
       "      <td>1</td>\n",
       "      <td>0</td>\n",
       "      <td>0</td>\n",
       "      <td>...</td>\n",
       "      <td>0</td>\n",
       "      <td>0</td>\n",
       "      <td>0</td>\n",
       "      <td>0</td>\n",
       "      <td>0</td>\n",
       "      <td>0</td>\n",
       "      <td>0</td>\n",
       "      <td>0</td>\n",
       "      <td>0</td>\n",
       "      <td>7.7</td>\n",
       "    </tr>\n",
       "    <tr>\n",
       "      <th>4</th>\n",
       "      <td>0.579384</td>\n",
       "      <td>0.627230</td>\n",
       "      <td>0.676981</td>\n",
       "      <td>0.745879</td>\n",
       "      <td>0.175144</td>\n",
       "      <td>0</td>\n",
       "      <td>0</td>\n",
       "      <td>1</td>\n",
       "      <td>0</td>\n",
       "      <td>0</td>\n",
       "      <td>...</td>\n",
       "      <td>0</td>\n",
       "      <td>0</td>\n",
       "      <td>0</td>\n",
       "      <td>0</td>\n",
       "      <td>0</td>\n",
       "      <td>0</td>\n",
       "      <td>0</td>\n",
       "      <td>0</td>\n",
       "      <td>0</td>\n",
       "      <td>5.3</td>\n",
       "    </tr>\n",
       "    <tr>\n",
       "      <th>5</th>\n",
       "      <td>0.198608</td>\n",
       "      <td>0.335716</td>\n",
       "      <td>0.502169</td>\n",
       "      <td>0.546338</td>\n",
       "      <td>0.331813</td>\n",
       "      <td>0</td>\n",
       "      <td>0</td>\n",
       "      <td>1</td>\n",
       "      <td>0</td>\n",
       "      <td>0</td>\n",
       "      <td>...</td>\n",
       "      <td>0</td>\n",
       "      <td>0</td>\n",
       "      <td>0</td>\n",
       "      <td>0</td>\n",
       "      <td>0</td>\n",
       "      <td>0</td>\n",
       "      <td>0</td>\n",
       "      <td>0</td>\n",
       "      <td>0</td>\n",
       "      <td>12.1</td>\n",
       "    </tr>\n",
       "    <tr>\n",
       "      <th>...</th>\n",
       "      <td>...</td>\n",
       "      <td>...</td>\n",
       "      <td>...</td>\n",
       "      <td>...</td>\n",
       "      <td>...</td>\n",
       "      <td>...</td>\n",
       "      <td>...</td>\n",
       "      <td>...</td>\n",
       "      <td>...</td>\n",
       "      <td>...</td>\n",
       "      <td>...</td>\n",
       "      <td>...</td>\n",
       "      <td>...</td>\n",
       "      <td>...</td>\n",
       "      <td>...</td>\n",
       "      <td>...</td>\n",
       "      <td>...</td>\n",
       "      <td>...</td>\n",
       "      <td>...</td>\n",
       "      <td>...</td>\n",
       "      <td>...</td>\n",
       "    </tr>\n",
       "    <tr>\n",
       "      <th>16061</th>\n",
       "      <td>0.277070</td>\n",
       "      <td>0.492043</td>\n",
       "      <td>0.611156</td>\n",
       "      <td>0.636116</td>\n",
       "      <td>0.294159</td>\n",
       "      <td>0</td>\n",
       "      <td>0</td>\n",
       "      <td>1</td>\n",
       "      <td>0</td>\n",
       "      <td>0</td>\n",
       "      <td>...</td>\n",
       "      <td>0</td>\n",
       "      <td>0</td>\n",
       "      <td>0</td>\n",
       "      <td>1</td>\n",
       "      <td>0</td>\n",
       "      <td>0</td>\n",
       "      <td>0</td>\n",
       "      <td>0</td>\n",
       "      <td>0</td>\n",
       "      <td>10.9</td>\n",
       "    </tr>\n",
       "    <tr>\n",
       "      <th>16062</th>\n",
       "      <td>0.107598</td>\n",
       "      <td>0.232559</td>\n",
       "      <td>0.222538</td>\n",
       "      <td>0.247399</td>\n",
       "      <td>0.074462</td>\n",
       "      <td>0</td>\n",
       "      <td>0</td>\n",
       "      <td>1</td>\n",
       "      <td>0</td>\n",
       "      <td>0</td>\n",
       "      <td>...</td>\n",
       "      <td>0</td>\n",
       "      <td>0</td>\n",
       "      <td>0</td>\n",
       "      <td>0</td>\n",
       "      <td>0</td>\n",
       "      <td>0</td>\n",
       "      <td>0</td>\n",
       "      <td>0</td>\n",
       "      <td>0</td>\n",
       "      <td>6.5</td>\n",
       "    </tr>\n",
       "    <tr>\n",
       "      <th>16063</th>\n",
       "      <td>0.426293</td>\n",
       "      <td>0.736910</td>\n",
       "      <td>0.055371</td>\n",
       "      <td>0.212539</td>\n",
       "      <td>0.689329</td>\n",
       "      <td>0</td>\n",
       "      <td>0</td>\n",
       "      <td>0</td>\n",
       "      <td>0</td>\n",
       "      <td>1</td>\n",
       "      <td>...</td>\n",
       "      <td>0</td>\n",
       "      <td>0</td>\n",
       "      <td>0</td>\n",
       "      <td>0</td>\n",
       "      <td>0</td>\n",
       "      <td>0</td>\n",
       "      <td>0</td>\n",
       "      <td>0</td>\n",
       "      <td>0</td>\n",
       "      <td>16.1</td>\n",
       "    </tr>\n",
       "    <tr>\n",
       "      <th>16064</th>\n",
       "      <td>0.528272</td>\n",
       "      <td>0.510305</td>\n",
       "      <td>0.430197</td>\n",
       "      <td>0.603100</td>\n",
       "      <td>0.128702</td>\n",
       "      <td>0</td>\n",
       "      <td>0</td>\n",
       "      <td>1</td>\n",
       "      <td>0</td>\n",
       "      <td>0</td>\n",
       "      <td>...</td>\n",
       "      <td>0</td>\n",
       "      <td>0</td>\n",
       "      <td>0</td>\n",
       "      <td>0</td>\n",
       "      <td>0</td>\n",
       "      <td>0</td>\n",
       "      <td>0</td>\n",
       "      <td>0</td>\n",
       "      <td>0</td>\n",
       "      <td>8.5</td>\n",
       "    </tr>\n",
       "    <tr>\n",
       "      <th>16065</th>\n",
       "      <td>0.707603</td>\n",
       "      <td>0.610698</td>\n",
       "      <td>0.404294</td>\n",
       "      <td>0.713035</td>\n",
       "      <td>0.226916</td>\n",
       "      <td>0</td>\n",
       "      <td>0</td>\n",
       "      <td>1</td>\n",
       "      <td>0</td>\n",
       "      <td>0</td>\n",
       "      <td>...</td>\n",
       "      <td>0</td>\n",
       "      <td>0</td>\n",
       "      <td>0</td>\n",
       "      <td>0</td>\n",
       "      <td>0</td>\n",
       "      <td>0</td>\n",
       "      <td>0</td>\n",
       "      <td>0</td>\n",
       "      <td>1</td>\n",
       "      <td>8.1</td>\n",
       "    </tr>\n",
       "  </tbody>\n",
       "</table>\n",
       "<p>13240 rows × 76 columns</p>\n",
       "</div>"
      ],
      "text/plain": [
       "       pickup_longitude  pickup_latitude  dropoff_longitude  dropoff_latitude  \\\n",
       "1              0.023864         0.172826           0.433524          0.732138   \n",
       "2              0.409750         0.573235           0.304609          0.486380   \n",
       "3              0.358870         0.347840           0.301110          0.545236   \n",
       "4              0.579384         0.627230           0.676981          0.745879   \n",
       "5              0.198608         0.335716           0.502169          0.546338   \n",
       "...                 ...              ...                ...               ...   \n",
       "16061          0.277070         0.492043           0.611156          0.636116   \n",
       "16062          0.107598         0.232559           0.222538          0.247399   \n",
       "16063          0.426293         0.736910           0.055371          0.212539   \n",
       "16064          0.528272         0.510305           0.430197          0.603100   \n",
       "16065          0.707603         0.610698           0.404294          0.713035   \n",
       "\n",
       "       Distance_KM  passenger_count_0.0  passenger_count_0.12  \\\n",
       "1         0.740366                    0                     0   \n",
       "2         0.121730                    0                     0   \n",
       "3         0.245249                    0                     0   \n",
       "4         0.175144                    0                     0   \n",
       "5         0.331813                    0                     0   \n",
       "...            ...                  ...                   ...   \n",
       "16061     0.294159                    0                     0   \n",
       "16062     0.074462                    0                     0   \n",
       "16063     0.689329                    0                     0   \n",
       "16064     0.128702                    0                     0   \n",
       "16065     0.226916                    0                     0   \n",
       "\n",
       "       passenger_count_1.0  passenger_count_1.3  passenger_count_2.0  ...  \\\n",
       "1                        1                    0                    0  ...   \n",
       "2                        0                    0                    1  ...   \n",
       "3                        1                    0                    0  ...   \n",
       "4                        1                    0                    0  ...   \n",
       "5                        1                    0                    0  ...   \n",
       "...                    ...                  ...                  ...  ...   \n",
       "16061                    1                    0                    0  ...   \n",
       "16062                    1                    0                    0  ...   \n",
       "16063                    0                    0                    1  ...   \n",
       "16064                    1                    0                    0  ...   \n",
       "16065                    1                    0                    0  ...   \n",
       "\n",
       "       pickup_hour_15.0  pickup_hour_16.0  pickup_hour_17.0  pickup_hour_18.0  \\\n",
       "1                     0                 1                 0                 0   \n",
       "2                     0                 0                 0                 0   \n",
       "3                     0                 0                 0                 0   \n",
       "4                     0                 0                 0                 0   \n",
       "5                     0                 0                 0                 0   \n",
       "...                 ...               ...               ...               ...   \n",
       "16061                 0                 0                 0                 1   \n",
       "16062                 0                 0                 0                 0   \n",
       "16063                 0                 0                 0                 0   \n",
       "16064                 0                 0                 0                 0   \n",
       "16065                 0                 0                 0                 0   \n",
       "\n",
       "       pickup_hour_19.0  pickup_hour_20.0  pickup_hour_21.0  pickup_hour_22.0  \\\n",
       "1                     0                 0                 0                 0   \n",
       "2                     0                 0                 0                 0   \n",
       "3                     0                 0                 0                 0   \n",
       "4                     0                 0                 0                 0   \n",
       "5                     0                 0                 0                 0   \n",
       "...                 ...               ...               ...               ...   \n",
       "16061                 0                 0                 0                 0   \n",
       "16062                 0                 0                 0                 0   \n",
       "16063                 0                 0                 0                 0   \n",
       "16064                 0                 0                 0                 0   \n",
       "16065                 0                 0                 0                 0   \n",
       "\n",
       "       pickup_hour_23.0  fare_amount  \n",
       "1                     0         16.9  \n",
       "2                     0          5.7  \n",
       "3                     0          7.7  \n",
       "4                     0          5.3  \n",
       "5                     0         12.1  \n",
       "...                 ...          ...  \n",
       "16061                 0         10.9  \n",
       "16062                 0          6.5  \n",
       "16063                 0         16.1  \n",
       "16064                 0          8.5  \n",
       "16065                 1          8.1  \n",
       "\n",
       "[13240 rows x 76 columns]"
      ]
     },
     "execution_count": 41,
     "metadata": {},
     "output_type": "execute_result"
    }
   ],
   "source": [
    "#Create linear regression data.\n",
    "onames=['pickup_longitude','pickup_latitude','dropoff_longitude','dropoff_latitude',\"Distance_KM\"]\n",
    "cab_data_temp = pd.DataFrame(cab_data[onames])\n",
    "\n",
    "##Create dummies for categorical variables\n",
    "cat_names = ['passenger_count','pickup_month','pickup_day','pickup_hour']\n",
    "\n",
    "for i in cat_names:\n",
    "    temp = pd.get_dummies(cab_data[i], prefix = i)\n",
    "    cab_data_temp = cab_data_temp.join(temp)\n",
    "cab_data_temp=cab_data_temp.join(cab_data['fare_amount'])\n",
    "\n",
    "#normalisation\n",
    "for i in onames :\n",
    "    cab_data_temp[i] = (cab_data_temp[i] - cab_data_temp[i].min())/ (cab_data_temp[i].max() - cab_data_temp[i].min())\n",
    "    \n",
    "#Checking the data for linear regression\n",
    "cab_data_temp"
   ]
  },
  {
   "cell_type": "code",
   "execution_count": 42,
   "metadata": {},
   "outputs": [],
   "source": [
    "#Test and Train data for multiple Linear Regression\n",
    "train_lr = cab_data_temp[Sample_Index]\n",
    "test_lr = cab_data_temp[~Sample_Index]"
   ]
  },
  {
   "cell_type": "code",
   "execution_count": 43,
   "metadata": {
    "scrolled": true
   },
   "outputs": [
    {
     "data": {
      "text/html": [
       "<div>\n",
       "<style scoped>\n",
       "    .dataframe tbody tr th:only-of-type {\n",
       "        vertical-align: middle;\n",
       "    }\n",
       "\n",
       "    .dataframe tbody tr th {\n",
       "        vertical-align: top;\n",
       "    }\n",
       "\n",
       "    .dataframe thead th {\n",
       "        text-align: right;\n",
       "    }\n",
       "</style>\n",
       "<table border=\"1\" class=\"dataframe\">\n",
       "  <thead>\n",
       "    <tr style=\"text-align: right;\">\n",
       "      <th></th>\n",
       "      <th>pickup_longitude</th>\n",
       "      <th>pickup_latitude</th>\n",
       "      <th>dropoff_longitude</th>\n",
       "      <th>dropoff_latitude</th>\n",
       "      <th>Distance_KM</th>\n",
       "      <th>passenger_count_0.0</th>\n",
       "      <th>passenger_count_0.12</th>\n",
       "      <th>passenger_count_1.0</th>\n",
       "      <th>passenger_count_1.3</th>\n",
       "      <th>passenger_count_2.0</th>\n",
       "      <th>...</th>\n",
       "      <th>pickup_hour_15.0</th>\n",
       "      <th>pickup_hour_16.0</th>\n",
       "      <th>pickup_hour_17.0</th>\n",
       "      <th>pickup_hour_18.0</th>\n",
       "      <th>pickup_hour_19.0</th>\n",
       "      <th>pickup_hour_20.0</th>\n",
       "      <th>pickup_hour_21.0</th>\n",
       "      <th>pickup_hour_22.0</th>\n",
       "      <th>pickup_hour_23.0</th>\n",
       "      <th>fare_amount</th>\n",
       "    </tr>\n",
       "  </thead>\n",
       "  <tbody>\n",
       "    <tr>\n",
       "      <th>3</th>\n",
       "      <td>0.358870</td>\n",
       "      <td>0.347840</td>\n",
       "      <td>0.301110</td>\n",
       "      <td>0.545236</td>\n",
       "      <td>0.245249</td>\n",
       "      <td>0</td>\n",
       "      <td>0</td>\n",
       "      <td>1</td>\n",
       "      <td>0</td>\n",
       "      <td>0</td>\n",
       "      <td>...</td>\n",
       "      <td>0</td>\n",
       "      <td>0</td>\n",
       "      <td>0</td>\n",
       "      <td>0</td>\n",
       "      <td>0</td>\n",
       "      <td>0</td>\n",
       "      <td>0</td>\n",
       "      <td>0</td>\n",
       "      <td>0</td>\n",
       "      <td>7.7</td>\n",
       "    </tr>\n",
       "    <tr>\n",
       "      <th>4</th>\n",
       "      <td>0.579384</td>\n",
       "      <td>0.627230</td>\n",
       "      <td>0.676981</td>\n",
       "      <td>0.745879</td>\n",
       "      <td>0.175144</td>\n",
       "      <td>0</td>\n",
       "      <td>0</td>\n",
       "      <td>1</td>\n",
       "      <td>0</td>\n",
       "      <td>0</td>\n",
       "      <td>...</td>\n",
       "      <td>0</td>\n",
       "      <td>0</td>\n",
       "      <td>0</td>\n",
       "      <td>0</td>\n",
       "      <td>0</td>\n",
       "      <td>0</td>\n",
       "      <td>0</td>\n",
       "      <td>0</td>\n",
       "      <td>0</td>\n",
       "      <td>5.3</td>\n",
       "    </tr>\n",
       "    <tr>\n",
       "      <th>5</th>\n",
       "      <td>0.198608</td>\n",
       "      <td>0.335716</td>\n",
       "      <td>0.502169</td>\n",
       "      <td>0.546338</td>\n",
       "      <td>0.331813</td>\n",
       "      <td>0</td>\n",
       "      <td>0</td>\n",
       "      <td>1</td>\n",
       "      <td>0</td>\n",
       "      <td>0</td>\n",
       "      <td>...</td>\n",
       "      <td>0</td>\n",
       "      <td>0</td>\n",
       "      <td>0</td>\n",
       "      <td>0</td>\n",
       "      <td>0</td>\n",
       "      <td>0</td>\n",
       "      <td>0</td>\n",
       "      <td>0</td>\n",
       "      <td>0</td>\n",
       "      <td>12.1</td>\n",
       "    </tr>\n",
       "    <tr>\n",
       "      <th>7</th>\n",
       "      <td>0.773948</td>\n",
       "      <td>0.676352</td>\n",
       "      <td>0.316958</td>\n",
       "      <td>0.490179</td>\n",
       "      <td>0.364074</td>\n",
       "      <td>0</td>\n",
       "      <td>0</td>\n",
       "      <td>1</td>\n",
       "      <td>0</td>\n",
       "      <td>0</td>\n",
       "      <td>...</td>\n",
       "      <td>0</td>\n",
       "      <td>0</td>\n",
       "      <td>1</td>\n",
       "      <td>0</td>\n",
       "      <td>0</td>\n",
       "      <td>0</td>\n",
       "      <td>0</td>\n",
       "      <td>0</td>\n",
       "      <td>0</td>\n",
       "      <td>16.5</td>\n",
       "    </tr>\n",
       "    <tr>\n",
       "      <th>9</th>\n",
       "      <td>0.433846</td>\n",
       "      <td>0.353690</td>\n",
       "      <td>0.301401</td>\n",
       "      <td>0.545596</td>\n",
       "      <td>0.249661</td>\n",
       "      <td>0</td>\n",
       "      <td>0</td>\n",
       "      <td>0</td>\n",
       "      <td>0</td>\n",
       "      <td>1</td>\n",
       "      <td>...</td>\n",
       "      <td>0</td>\n",
       "      <td>0</td>\n",
       "      <td>0</td>\n",
       "      <td>0</td>\n",
       "      <td>0</td>\n",
       "      <td>0</td>\n",
       "      <td>0</td>\n",
       "      <td>0</td>\n",
       "      <td>0</td>\n",
       "      <td>8.9</td>\n",
       "    </tr>\n",
       "    <tr>\n",
       "      <th>...</th>\n",
       "      <td>...</td>\n",
       "      <td>...</td>\n",
       "      <td>...</td>\n",
       "      <td>...</td>\n",
       "      <td>...</td>\n",
       "      <td>...</td>\n",
       "      <td>...</td>\n",
       "      <td>...</td>\n",
       "      <td>...</td>\n",
       "      <td>...</td>\n",
       "      <td>...</td>\n",
       "      <td>...</td>\n",
       "      <td>...</td>\n",
       "      <td>...</td>\n",
       "      <td>...</td>\n",
       "      <td>...</td>\n",
       "      <td>...</td>\n",
       "      <td>...</td>\n",
       "      <td>...</td>\n",
       "      <td>...</td>\n",
       "      <td>...</td>\n",
       "    </tr>\n",
       "    <tr>\n",
       "      <th>16061</th>\n",
       "      <td>0.277070</td>\n",
       "      <td>0.492043</td>\n",
       "      <td>0.611156</td>\n",
       "      <td>0.636116</td>\n",
       "      <td>0.294159</td>\n",
       "      <td>0</td>\n",
       "      <td>0</td>\n",
       "      <td>1</td>\n",
       "      <td>0</td>\n",
       "      <td>0</td>\n",
       "      <td>...</td>\n",
       "      <td>0</td>\n",
       "      <td>0</td>\n",
       "      <td>0</td>\n",
       "      <td>1</td>\n",
       "      <td>0</td>\n",
       "      <td>0</td>\n",
       "      <td>0</td>\n",
       "      <td>0</td>\n",
       "      <td>0</td>\n",
       "      <td>10.9</td>\n",
       "    </tr>\n",
       "    <tr>\n",
       "      <th>16062</th>\n",
       "      <td>0.107598</td>\n",
       "      <td>0.232559</td>\n",
       "      <td>0.222538</td>\n",
       "      <td>0.247399</td>\n",
       "      <td>0.074462</td>\n",
       "      <td>0</td>\n",
       "      <td>0</td>\n",
       "      <td>1</td>\n",
       "      <td>0</td>\n",
       "      <td>0</td>\n",
       "      <td>...</td>\n",
       "      <td>0</td>\n",
       "      <td>0</td>\n",
       "      <td>0</td>\n",
       "      <td>0</td>\n",
       "      <td>0</td>\n",
       "      <td>0</td>\n",
       "      <td>0</td>\n",
       "      <td>0</td>\n",
       "      <td>0</td>\n",
       "      <td>6.5</td>\n",
       "    </tr>\n",
       "    <tr>\n",
       "      <th>16063</th>\n",
       "      <td>0.426293</td>\n",
       "      <td>0.736910</td>\n",
       "      <td>0.055371</td>\n",
       "      <td>0.212539</td>\n",
       "      <td>0.689329</td>\n",
       "      <td>0</td>\n",
       "      <td>0</td>\n",
       "      <td>0</td>\n",
       "      <td>0</td>\n",
       "      <td>1</td>\n",
       "      <td>...</td>\n",
       "      <td>0</td>\n",
       "      <td>0</td>\n",
       "      <td>0</td>\n",
       "      <td>0</td>\n",
       "      <td>0</td>\n",
       "      <td>0</td>\n",
       "      <td>0</td>\n",
       "      <td>0</td>\n",
       "      <td>0</td>\n",
       "      <td>16.1</td>\n",
       "    </tr>\n",
       "    <tr>\n",
       "      <th>16064</th>\n",
       "      <td>0.528272</td>\n",
       "      <td>0.510305</td>\n",
       "      <td>0.430197</td>\n",
       "      <td>0.603100</td>\n",
       "      <td>0.128702</td>\n",
       "      <td>0</td>\n",
       "      <td>0</td>\n",
       "      <td>1</td>\n",
       "      <td>0</td>\n",
       "      <td>0</td>\n",
       "      <td>...</td>\n",
       "      <td>0</td>\n",
       "      <td>0</td>\n",
       "      <td>0</td>\n",
       "      <td>0</td>\n",
       "      <td>0</td>\n",
       "      <td>0</td>\n",
       "      <td>0</td>\n",
       "      <td>0</td>\n",
       "      <td>0</td>\n",
       "      <td>8.5</td>\n",
       "    </tr>\n",
       "    <tr>\n",
       "      <th>16065</th>\n",
       "      <td>0.707603</td>\n",
       "      <td>0.610698</td>\n",
       "      <td>0.404294</td>\n",
       "      <td>0.713035</td>\n",
       "      <td>0.226916</td>\n",
       "      <td>0</td>\n",
       "      <td>0</td>\n",
       "      <td>1</td>\n",
       "      <td>0</td>\n",
       "      <td>0</td>\n",
       "      <td>...</td>\n",
       "      <td>0</td>\n",
       "      <td>0</td>\n",
       "      <td>0</td>\n",
       "      <td>0</td>\n",
       "      <td>0</td>\n",
       "      <td>0</td>\n",
       "      <td>0</td>\n",
       "      <td>0</td>\n",
       "      <td>1</td>\n",
       "      <td>8.1</td>\n",
       "    </tr>\n",
       "  </tbody>\n",
       "</table>\n",
       "<p>10561 rows × 76 columns</p>\n",
       "</div>"
      ],
      "text/plain": [
       "       pickup_longitude  pickup_latitude  dropoff_longitude  dropoff_latitude  \\\n",
       "3              0.358870         0.347840           0.301110          0.545236   \n",
       "4              0.579384         0.627230           0.676981          0.745879   \n",
       "5              0.198608         0.335716           0.502169          0.546338   \n",
       "7              0.773948         0.676352           0.316958          0.490179   \n",
       "9              0.433846         0.353690           0.301401          0.545596   \n",
       "...                 ...              ...                ...               ...   \n",
       "16061          0.277070         0.492043           0.611156          0.636116   \n",
       "16062          0.107598         0.232559           0.222538          0.247399   \n",
       "16063          0.426293         0.736910           0.055371          0.212539   \n",
       "16064          0.528272         0.510305           0.430197          0.603100   \n",
       "16065          0.707603         0.610698           0.404294          0.713035   \n",
       "\n",
       "       Distance_KM  passenger_count_0.0  passenger_count_0.12  \\\n",
       "3         0.245249                    0                     0   \n",
       "4         0.175144                    0                     0   \n",
       "5         0.331813                    0                     0   \n",
       "7         0.364074                    0                     0   \n",
       "9         0.249661                    0                     0   \n",
       "...            ...                  ...                   ...   \n",
       "16061     0.294159                    0                     0   \n",
       "16062     0.074462                    0                     0   \n",
       "16063     0.689329                    0                     0   \n",
       "16064     0.128702                    0                     0   \n",
       "16065     0.226916                    0                     0   \n",
       "\n",
       "       passenger_count_1.0  passenger_count_1.3  passenger_count_2.0  ...  \\\n",
       "3                        1                    0                    0  ...   \n",
       "4                        1                    0                    0  ...   \n",
       "5                        1                    0                    0  ...   \n",
       "7                        1                    0                    0  ...   \n",
       "9                        0                    0                    1  ...   \n",
       "...                    ...                  ...                  ...  ...   \n",
       "16061                    1                    0                    0  ...   \n",
       "16062                    1                    0                    0  ...   \n",
       "16063                    0                    0                    1  ...   \n",
       "16064                    1                    0                    0  ...   \n",
       "16065                    1                    0                    0  ...   \n",
       "\n",
       "       pickup_hour_15.0  pickup_hour_16.0  pickup_hour_17.0  pickup_hour_18.0  \\\n",
       "3                     0                 0                 0                 0   \n",
       "4                     0                 0                 0                 0   \n",
       "5                     0                 0                 0                 0   \n",
       "7                     0                 0                 1                 0   \n",
       "9                     0                 0                 0                 0   \n",
       "...                 ...               ...               ...               ...   \n",
       "16061                 0                 0                 0                 1   \n",
       "16062                 0                 0                 0                 0   \n",
       "16063                 0                 0                 0                 0   \n",
       "16064                 0                 0                 0                 0   \n",
       "16065                 0                 0                 0                 0   \n",
       "\n",
       "       pickup_hour_19.0  pickup_hour_20.0  pickup_hour_21.0  pickup_hour_22.0  \\\n",
       "3                     0                 0                 0                 0   \n",
       "4                     0                 0                 0                 0   \n",
       "5                     0                 0                 0                 0   \n",
       "7                     0                 0                 0                 0   \n",
       "9                     0                 0                 0                 0   \n",
       "...                 ...               ...               ...               ...   \n",
       "16061                 0                 0                 0                 0   \n",
       "16062                 0                 0                 0                 0   \n",
       "16063                 0                 0                 0                 0   \n",
       "16064                 0                 0                 0                 0   \n",
       "16065                 0                 0                 0                 0   \n",
       "\n",
       "       pickup_hour_23.0  fare_amount  \n",
       "3                     0          7.7  \n",
       "4                     0          5.3  \n",
       "5                     0         12.1  \n",
       "7                     0         16.5  \n",
       "9                     0          8.9  \n",
       "...                 ...          ...  \n",
       "16061                 0         10.9  \n",
       "16062                 0          6.5  \n",
       "16063                 0         16.1  \n",
       "16064                 0          8.5  \n",
       "16065                 1          8.1  \n",
       "\n",
       "[10561 rows x 76 columns]"
      ]
     },
     "execution_count": 43,
     "metadata": {},
     "output_type": "execute_result"
    }
   ],
   "source": [
    "train_lr"
   ]
  },
  {
   "cell_type": "code",
   "execution_count": 44,
   "metadata": {},
   "outputs": [
    {
     "name": "stdout",
     "output_type": "stream",
     "text": [
      "                    Coefficient\n",
      "pickup_longitude  -1.239847e-01\n",
      "pickup_latitude    2.468364e-01\n",
      "dropoff_longitude  5.453021e-01\n",
      "dropoff_latitude  -1.930075e+00\n",
      "Distance_KM        2.289902e+01\n",
      "...                         ...\n",
      "pickup_hour_19.0  -5.027085e+12\n",
      "pickup_hour_20.0  -5.027085e+12\n",
      "pickup_hour_21.0  -5.027085e+12\n",
      "pickup_hour_22.0  -5.027085e+12\n",
      "pickup_hour_23.0  -5.027085e+12\n",
      "\n",
      "[75 rows x 1 columns]\n"
     ]
    }
   ],
   "source": [
    "# Building model on top of training dataset\n",
    "LRmodel = LinearRegression().fit(train_lr.iloc[:,0:75], train_lr.iloc[:,75])\n",
    "#prediction on train data\n",
    "LR_predictions = LRmodel.predict(test_lr.iloc[:,0:75])\n",
    "#Printing the coefficients\n",
    "coeff_df = pd.DataFrame(LRmodel.coef_, train_lr.iloc[:,0:75].columns, columns=['Coefficient'])  \n",
    "print(coeff_df)"
   ]
  },
  {
   "cell_type": "code",
   "execution_count": 45,
   "metadata": {},
   "outputs": [
    {
     "name": "stdout",
     "output_type": "stream",
     "text": [
      "R-squared: 0.6934858599889403\n",
      "Adjusted R-squared: 0.691293341104741\n"
     ]
    }
   ],
   "source": [
    "#Calculating R-squared and adjusted R squared\n",
    "r_sq = LRmodel.score(train_lr.iloc[:,0:75], train_lr.iloc[:,75])\n",
    "sam_size = len(train_lr)\n",
    "predictors=75\n",
    "a=1-(((1-r_sq)*(sam_size-1))/(sam_size-predictors-1))\n",
    "print(\"R-squared:\",r_sq)\n",
    "print(\"Adjusted R-squared:\",a)"
   ]
  },
  {
   "cell_type": "markdown",
   "metadata": {},
   "source": [
    "# Decision Tree"
   ]
  },
  {
   "cell_type": "code",
   "execution_count": 46,
   "metadata": {},
   "outputs": [],
   "source": [
    "#Decision Tree\n",
    "DTmodel = DecisionTreeRegressor(max_depth=2).fit(train_1.iloc[:,0:9], train_1.iloc[:,9])\n",
    "DT_predictions = DTmodel.predict(test_1.iloc[:,0:9])"
   ]
  },
  {
   "cell_type": "markdown",
   "metadata": {},
   "source": [
    "# Random Forest"
   ]
  },
  {
   "cell_type": "code",
   "execution_count": 47,
   "metadata": {},
   "outputs": [],
   "source": [
    "#Random forest\n",
    "RFmodel = RandomForestRegressor(n_estimators = 200).fit(train_1.iloc[:,0:9], train_1.iloc[:,9])\n",
    "RF_Predictions = RFmodel.predict(test_1.iloc[:,0:9])"
   ]
  },
  {
   "cell_type": "markdown",
   "metadata": {},
   "source": [
    "# Gradient Boosting"
   ]
  },
  {
   "cell_type": "code",
   "execution_count": 48,
   "metadata": {},
   "outputs": [],
   "source": [
    "cab_data_GB=cab_data\n",
    "\n",
    "cab_data_GB['passenger_count']=cab_data_GB['passenger_count'].astype('int')\n",
    "cab_data_GB['pickup_month']=cab_data_GB['pickup_month'].astype('int')\n",
    "cab_data_GB['pickup_hour']=cab_data_GB['pickup_hour'].astype('int')\n",
    "cab_data_GB['pickup_day']=cab_data_GB['pickup_day'].astype('int')\n",
    "train_GB = cab_data[Sample_Index]\n",
    "test_GB = cab_data[~Sample_Index]\n",
    "\n",
    "\n",
    "GBModel = XGBRegressor().fit(train_GB.iloc[:,0:9], train_GB.iloc[:,9])\n",
    "GB_Predictions = GBModel.predict(test_GB.iloc[:,0:9])\n"
   ]
  },
  {
   "cell_type": "code",
   "execution_count": 49,
   "metadata": {},
   "outputs": [
    {
     "name": "stdout",
     "output_type": "stream",
     "text": [
      "RMSE of Multiple Linear Regression= 2.138040497135078\n",
      "RMSE of Decission Tree= 2.3361752540093557\n",
      "RMSE of Random Forest= 2.068920366401793\n",
      "RMSE of Gradient Boosting= 2.058325509711939\n"
     ]
    }
   ],
   "source": [
    "#Calculate RMSE\n",
    "\n",
    "\n",
    "def RMSE(y_true, y_pred): \n",
    "    rmse = np.sqrt(mean_squared_error(y_true,y_pred))\n",
    "    return rmse\n",
    "\n",
    "#Calculate RMSE for LR\n",
    "print(\"RMSE of Multiple Linear Regression=\",RMSE(test_lr.iloc[:,75], LR_predictions))\n",
    "\n",
    "#Calculate RMSE for DT\n",
    "print(\"RMSE of Decission Tree=\",RMSE(test_1.iloc[:,9], DT_predictions))\n",
    "\n",
    "#Calculate RMSE for RF\n",
    "print(\"RMSE of Random Forest=\",RMSE(test_1.iloc[:,9], RF_Predictions))\n",
    "\n",
    "#Calculate RMSE for GB\n",
    "print(\"RMSE of Gradient Boosting=\",RMSE(test_1.iloc[:,9], GB_Predictions))\n",
    "\n"
   ]
  },
  {
   "cell_type": "code",
   "execution_count": 50,
   "metadata": {},
   "outputs": [
    {
     "name": "stdout",
     "output_type": "stream",
     "text": [
      "MAPE of Multiple Linear Regression= 19.04744981494062 %\n",
      "MAPE of Decission Tree= 21.98300206836533 %\n",
      "MAPE of Random Forest= 18.640213281346256 %\n",
      "MAPE of Gradient Boosting= 17.936730188980263 %\n"
     ]
    }
   ],
   "source": [
    "#Calculate MAPE\n",
    "def MAPE(y_true, y_pred): \n",
    "    mape = np.mean(np.abs((y_true - y_pred) / y_true))*100\n",
    "    return mape\n",
    "\n",
    "#Calculate MAPE for LR\n",
    "print(\"MAPE of Multiple Linear Regression=\",MAPE(test_lr.iloc[:,75], LR_predictions),\"%\")\n",
    "\n",
    "#Calculate MAPE for DT\n",
    "print(\"MAPE of Decission Tree=\",MAPE(test_1.iloc[:,9], DT_predictions),\"%\")\n",
    "\n",
    "#Calculate MAPE for RF\n",
    "print(\"MAPE of Random Forest=\",MAPE(test_1.iloc[:,9], RF_Predictions),\"%\")\n",
    "\n",
    "\n",
    "#Calculate MAPE for GB\n",
    "print(\"MAPE of Gradient Boosting=\",MAPE(test_1.iloc[:,9], GB_Predictions),\"%\")\n",
    "\n",
    "\n"
   ]
  },
  {
   "cell_type": "code",
   "execution_count": 51,
   "metadata": {},
   "outputs": [],
   "source": [
    "#selecting Gradient Boosting, building the model on the complete train data\n",
    "cab_data['passenger_count']=cab_data['passenger_count'].astype('int')\n",
    "cab_data['pickup_month']=cab_data['pickup_month'].astype('int')\n",
    "cab_data['pickup_hour']=cab_data['pickup_hour'].astype('int')\n",
    "cab_data['pickup_day']=cab_data['pickup_day'].astype('int')\n",
    "GBModel_Final = XGBRegressor().fit(cab_data.iloc[:,0:9], cab_data.iloc[:,9])"
   ]
  },
  {
   "cell_type": "markdown",
   "metadata": {},
   "source": [
    "# loading and formatting test data before applying to the model"
   ]
  },
  {
   "cell_type": "code",
   "execution_count": 52,
   "metadata": {},
   "outputs": [],
   "source": [
    "test=pd.read_csv(\"test.csv\")\n",
    "df=test.copy()"
   ]
  },
  {
   "cell_type": "code",
   "execution_count": 53,
   "metadata": {},
   "outputs": [],
   "source": [
    "test.pickup_datetime = pd.to_datetime(test.pickup_datetime, errors='coerce')\n",
    "test['pickup_month']=test['pickup_datetime'].dt.month\n",
    "test['pickup_day']=test['pickup_datetime'].dt.weekday\n",
    "test['pickup_hour']=test['pickup_datetime'].dt.hour\n",
    "test = test.drop(['pickup_datetime'], axis=1)\n",
    "test['passenger_count']=test['passenger_count'].astype('int')\n",
    "test['pickup_month']=test['pickup_month'].astype('int')\n",
    "test['pickup_hour']=test['pickup_hour'].astype('int')\n",
    "test['pickup_day']=test['pickup_day'].astype('int')\n",
    "test['Distance_KM'] =  dist(test['pickup_longitude'], test['pickup_latitude'],test['dropoff_longitude'], \n",
    "                            test['dropoff_latitude']) "
   ]
  },
  {
   "cell_type": "code",
   "execution_count": 54,
   "metadata": {},
   "outputs": [],
   "source": [
    "\n",
    "column_names = ['pickup_longitude','pickup_latitude','dropoff_longitude','dropoff_latitude',\n",
    "                \"passenger_count\", \"pickup_month\", \"pickup_day\", \"pickup_hour\", \"Distance_KM\"]\n",
    "\n",
    "test = test.reindex(columns=column_names)"
   ]
  },
  {
   "cell_type": "code",
   "execution_count": 55,
   "metadata": {},
   "outputs": [],
   "source": [
    "#applying the Gradient Boosting Model on test data and saving its output\n",
    "GB_FPredictions = GBModel_Final.predict(test.iloc[:,0:9])\n",
    "result=pd.DataFrame(df)\n",
    "result['Pred_Fare'] = (GB_FPredictions)\n",
    "\n",
    "result.to_csv(\"GB_op_python.csv\",index=False)"
   ]
  }
 ],
 "metadata": {
  "kernelspec": {
   "display_name": "Python 3",
   "language": "python",
   "name": "python3"
  },
  "language_info": {
   "codemirror_mode": {
    "name": "ipython",
    "version": 3
   },
   "file_extension": ".py",
   "mimetype": "text/x-python",
   "name": "python",
   "nbconvert_exporter": "python",
   "pygments_lexer": "ipython3",
   "version": "3.8.3"
  }
 },
 "nbformat": 4,
 "nbformat_minor": 2
}
